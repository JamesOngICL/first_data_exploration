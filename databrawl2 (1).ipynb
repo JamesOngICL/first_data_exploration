{
 "cells": [
  {
   "cell_type": "markdown",
   "id": "6640c72d",
   "metadata": {},
   "source": [
    "# To what extent do socioeconomic and behavioural factors have on overall mathematics grades and how effective is linear regression at modelling a students performance in portugese maths examinations? \n",
    "\n",
    "## Initial Data Exploration and Visualization: \n",
    "I first started off by trying to run a simple analysis on the data set examining simple phenomena to visualise the dataset. I initially began by examining the direct effect study time has on the final grade achieved more specifically looking at the correlation between these two variables and plotting a straight line of best fit to model the data. "
   ]
  },
  {
   "cell_type": "code",
   "execution_count": 92,
   "id": "7fe6445e",
   "metadata": {},
   "outputs": [
    {
     "name": "stdout",
     "output_type": "stream",
     "text": [
      "Correlation : 0.127\n"
     ]
    },
    {
     "data": {
      "text/plain": [
       "[<matplotlib.lines.Line2D at 0x1d2d7ad6f70>]"
      ]
     },
     "execution_count": 92,
     "metadata": {},
     "output_type": "execute_result"
    },
    {
     "data": {
      "image/png": "[encoded data removed]",
      "text/plain": [
       "<Figure size 432x288 with 1 Axes>"
      ]
     },
     "metadata": {
      "needs_background": "light"
     },
     "output_type": "display_data"
    }
   ],
   "source": [
    "import pandas as pd\n",
    "from matplotlib import pyplot as plt\n",
    "import numpy as np\n",
    "from statistics import mean\n",
    "\n",
    "csv_import = pd.read_csv(\"student-mat.csv\")\n",
    "study_time = np.array(csv_import['studytime'])\n",
    "final_grade = np.array(csv_import['G3'])\n",
    "g3 = []\n",
    "study_hrs = []\n",
    "for i in range(0,len(final_grade)):\n",
    "    if final_grade[i] != 0:\n",
    "        g3.append(final_grade[i])\n",
    "        study_hrs.append(study_time[i])\n",
    "g3 = np.array(g3,dtype=np.float64)\n",
    "study_hrs = np.array(study_hrs,dtype=np.float64)\n",
    "r = np.corrcoef(study_hrs,g3)\n",
    "print(\"Correlation :\",format(r[0][1],\".3f\"))\n",
    "\n",
    "m, c = np.polyfit(study_hrs,g3,1)\n",
    "#reg_line = [(m*study_hrs)+c for i in study_hrs]\n",
    "plt.scatter(study_hrs,g3)\n",
    "plt.xlabel(\"Study Time \")\n",
    "plt.ylabel(\"Grade out of 20\")\n",
    "plt.title(\"A Graph that Shows the Effect of Study Time on Final Grade\")\n",
    "plt.plot(study_hrs,m*study_hrs+c)"
   ]
  },
  {
   "cell_type": "markdown",
   "id": "df894a1f",
   "metadata": {},
   "source": [
    "### Analysis and Further Explanations\n",
    "Based on the preliminary results of this data exploration, I discovered that study time (with a correlation of 0.127) did not have as high an effect on final grade as I had expected. I hence decided to explore doing multivariate analysis to examine the data and gain a deeper understanding of the factors involved and how they affect academic performance. \n",
    "\n",
    "\n",
    "### Analytic Techniques and Model Validation:\n",
    "I used approximately 90% of the data for training the model and the remaining 10% was used to test how effective the model was at making predictions (90-10 train test split). This was done by taking the first 350 rows of data and storing them into a new CSV file. I made this decision because the maths data set is rather small with around 400 rows and hence I thought that more data should be used in order to perform an accurate linear regression. \n",
    "\n",
    "I analysed a total of 8 columns to determine the effect of several given variables on performance in final exams. \n",
    "\n",
    "### This Included:\n",
    "1. Study Time\n",
    "\n",
    "2. Absences \n",
    "\n",
    "3. Father education level\n",
    "\n",
    "4. Mother education level\n",
    "\n",
    "5. Time spent socialising\n",
    "\n",
    "6. Time taken to commute to school\n",
    "\n",
    "7. Workday alcohol consumption\n",
    "\n",
    "8. Weekend alcohol consumption\n",
    "\n",
    "These parameters were passed into the linear regression model and the y-intercept as well as the individual contributions of each factor were found.      \n"
   ]
  },
  {
   "cell_type": "code",
   "execution_count": 94,
   "id": "ff7c2a09",
   "metadata": {},
   "outputs": [
    {
     "data": {
      "text/plain": [
       "array([[ 0.32862174,  0.01347622,  0.04301862,  0.78877677, -0.89785452,\n",
       "        -0.5608061 , -0.28374788,  0.36045089]])"
      ]
     },
     "execution_count": 94,
     "metadata": {},
     "output_type": "execute_result"
    }
   ],
   "source": [
    "#absences, MEDU, FEDU, famrel, study_time,goout (for maths grade)\n",
    "#investigate the importance of study time, stable family as well as hours spent in class are on overall\n",
    "\n",
    "import pandas as pd\n",
    "from matplotlib import pyplot as plt\n",
    "import numpy as np\n",
    "from statistics import mean\n",
    "from sklearn import linear_model\n",
    "\n",
    "csv_import = pd.read_csv(\"filter_mat.csv\")\n",
    "#I created my own data set with approximately 350 rows to leave some data for testing purposes.\n",
    "#I decided to incorporate a large amount of \n",
    "\n",
    "\n",
    "X = csv_import[['studytime','absences','Fedu','Medu','goout','traveltime','Dalc','Walc']]\n",
    "Y = csv_import[['G3']]\n",
    "\n",
    "reg = linear_model.LinearRegression()\n",
    "reg.fit(X,Y)\n",
    "reg.coef_ \n"
   ]
  },
  {
   "cell_type": "code",
   "execution_count": 95,
   "id": "55ddbe31",
   "metadata": {},
   "outputs": [
    {
     "data": {
      "text/plain": [
       "array([10.57792247])"
      ]
     },
     "execution_count": 95,
     "metadata": {},
     "output_type": "execute_result"
    }
   ],
   "source": [
    "reg.intercept_"
   ]
  },
  {
   "cell_type": "markdown",
   "id": "67051b9b",
   "metadata": {},
   "source": [
    "### Code Explanation\n",
    "The cells above are used to run a linear regression model on the 8 categories listed as above. This was done through using python pandas and statistics packages.The array of factors shows the effect of each category on student attainment and category coefficients are listed in the order as stated previously in the numbered list above.\n"
   ]
  },
  {
   "cell_type": "markdown",
   "id": "f59a3eda",
   "metadata": {},
   "source": [
    "## Insights and Analysis:\n",
    "\n",
    "The data retrieved by the model presents some rather interesting findings. The positive correlation coefficient of 0.329 (3 S.F.) between studying and final grades indicates that if students increase their study time by 1 effort grade (which is ranked from 1-5) their overall score is expected to increase by a total of 0.329. Hence, studying harder can result in grades improving which is as expected. Additionally, it was ironic that the number of absences generally could contribute positively to higher grades achieved in the final exam. It is possible that this may have been one of the limitations of the model and that there may not have been enough data to validate whether absences really could impact scores so greatly. \n",
    "\n",
    "It appears that parental education does have an effect on a student’s overall performance too. However, it seems that the mother’s education level has a far greater contribution than the father’s education level on a student’s attainment. The factor coefficient between mother’s education level and attainment is 0.789 while for the father’s it is 0.0430 (3 S.F.). The case for parental education and student aptitude is clear in that educated parents could have higher ambitions and expectations for children to succeed (amongst a variety of other factors). However, I found it quite strange that the mother’s education level could influence the child’s performance in a far greater manner than the father’s education and in a future project will likely investigate this further. \n",
    "\n",
    "Based on the next sets of data it seems travel time to school/university was a factor that affected the students performance in school/university greatly. Longer commute times are not ideal and results in grades dropping. This could be due to the fact that longer commutes could be more tiring and hence the student may not be as refreshed during class amongst a variety of other reasons. Time spent socialising was the factor that affected performance most significantly with a coefficient of -0.898. It appears that spending more time socialising is bad as it could mean students will have less time to study due to maintaining such large social networks or also because they could be more likely to be distracted by social media.  \n",
    "\n",
    "Meanwhile, for alcohol consumption the trends are interesting. It seems that drinking alcohol during workdays will negatively affect performance (with a correlation coefficient of -0.284). This could be as expected because drinking may affect REM sleep which is necessary for a student's performance and aptitude. However, what was ironic is that drinking during weekends actually had a positive correlation on performance being having a coefficient of 0.360. While I can speculate that drinking alcohol during weekends can be good to help students relax, the findings still are surprising and should be investigated further or using a different model.   \n"
   ]
  },
  {
   "cell_type": "markdown",
   "id": "39ca322e",
   "metadata": {},
   "source": [
    "## Humorous Insights and Advice for Uni-Students:\n",
    "\n",
    "#### DISCLAIMER: All of this should be taken with a pinch of salt and has not been researched thoroughly enough to affirm. It is meant as humour and for a fun creative interpretation of the data. It ALSO IS NOT A THOROUGH ANALYSIS OF THE DATASET which you should check  the previous section for\n",
    "\n",
    "The model student (the one who achieves the highest grades) is one who is hard working, skips classes and has educated parents. They also have a relatively short commute time to campus, they can drink on the weekends but not on weekdays and do not spend much time socialising. Based on my experience on Imperial this trend can be abstracted to England :).\n",
    "\n",
    "#### To Do Well in University You Should: \n",
    "1. Get wasted on weekends (I mean that’s what they are for) \n",
    "2. Lock yourself in your room and become a recluse \n",
    "3. Devote your entire life and soul to studying\n",
    "4. Live right next to university\n",
    "5. Skip classes it’s ok because you can watch them on 1-2x speed on panopto. \n"
   ]
  },
  {
   "cell_type": "code",
   "execution_count": 96,
   "id": "63846c78",
   "metadata": {},
   "outputs": [
    {
     "name": "stdout",
     "output_type": "stream",
     "text": [
      "The mean difference is:  3.12\n"
     ]
    }
   ],
   "source": [
    "##this section of code is used for testing\n",
    "#the math csv folder \n",
    "import_2 = pd.read_csv(\"student-mat.csv\")\n",
    "study_hrs2 = np.array(import_2['studytime'])\n",
    "abs_stats2 = np.array(import_2['absences'])\n",
    "fed = np.array(import_2['Fedu'])\n",
    "med = np.array(import_2['Medu'])\n",
    "go_out = np.array(import_2['goout'])\n",
    "travel_t = np.array(import_2['traveltime'])\n",
    "daily_alc = np.array(import_2['Dalc'])\n",
    "wkly_alc = np.array(import_2['Walc'])\n",
    "G3 = np.array(import_2['G3'])\n",
    "\n",
    "difference = 0\n",
    "max_arr = []\n",
    "for i in range(350,len(G3)):\n",
    "    sum_val = study_hrs2[i]*0.32862174+abs_stats2[i]*0.01347622+fed[i]*0.04301862+0.78877677*med[i]\n",
    "    sum_val += -0.89785452*go_out[i]+travel_t[i]*-0.5608061+-0.28374788*daily_alc[i]+0.36045089*wkly_alc[i]\n",
    "    difference += abs(10.57792247+sum_val-G3[i])\n",
    "    \n",
    "\n",
    "total = len(import_2)-351 \n",
    "mean = round(difference/total,2)\n",
    "print(\"The mean difference is: \",mean)\n"
   ]
  },
  {
   "cell_type": "markdown",
   "id": "39cfc700",
   "metadata": {},
   "source": [
    "## Model Evaluation:\n",
    "Overall, it appears that linear regression with linear weights and biases was not a fantastic tool for analysing the students' performance, with the model being on average off  by a factor of 3.12 /20 each measurement. While it is possible that other factors could have been included to make the data prediction better it is likely that linear regression is not sophisticated enough in modelling to accurately capture how effectively a student could perform. It is likely that in order to obtain a more accurate measurement machine learning algorithms should be used instead as they can have more complicated activation functions and can also apply complex features such as dropout and weight decay.  \n"
   ]
  },
  {
   "cell_type": "markdown",
   "id": "e68c4236",
   "metadata": {},
   "source": []
  }
 ],
 "metadata": {
  "kernelspec": {
   "display_name": "Python 3 (ipykernel)",
   "language": "python",
   "name": "python3"
  },
  "language_info": {
   "codemirror_mode": {
    "name": "ipython",
    "version": 3
   },
   "file_extension": ".py",
   "mimetype": "text/x-python",
   "name": "python",
   "nbconvert_exporter": "python",
   "pygments_lexer": "ipython3",
   "version": "3.9.7"
  }
 },
 "nbformat": 4,
 "nbformat_minor": 5
}
